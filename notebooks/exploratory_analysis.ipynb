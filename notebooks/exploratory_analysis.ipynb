{
  "cells": [
    {
      "cell_type": "code",
      "source": [
        "from pydrive.auth import GoogleAuth\n",
        "from pydrive.drive import GoogleDrive\n",
        "from google.colab import auth\n",
        "from oauth2client.client import GoogleCredentials\n",
        "\n",
        "# Authenticate and create the PyDrive client.\n",
        "auth.authenticate_user()\n",
        "gauth = GoogleAuth()\n",
        "gauth.credentials = GoogleCredentials.get_application_default()\n",
        "drive = GoogleDrive(gauth)\n",
        "file_id = '1SdJI9h4OxKGRFEfm3JOYIkiWMyBqFmw4'\n",
        "downloaded = drive.CreateFile({'id':file_id})\n",
        "downloaded.FetchMetadata(fetch_all=True)\n",
        "downloaded.GetContentFile(downloaded.metadata['title'])"
      ],
      "metadata": {
        "id": "6VfyBM8VUF5T"
      },
      "execution_count": null,
      "outputs": []
    },
    {
      "cell_type": "code",
      "execution_count": null,
      "metadata": {
        "collapsed": true,
        "pycharm": {
          "name": "#%%\n"
        },
        "id": "FmVo90OMMbXU"
      },
      "outputs": [],
      "source": [
        "path_to_zip_file = \"./dataset.zip\"\n",
        "directory_to_extract_to = \"./\"\n",
        "import zipfile\n",
        "with zipfile.ZipFile(path_to_zip_file, 'r') as zip_ref:\n",
        "    zip_ref.extractall(directory_to_extract_to)"
      ]
    },
    {
      "cell_type": "markdown",
      "source": [
        "The dataset.zip has been extracted to the dataset directory"
      ],
      "metadata": {
        "collapsed": false,
        "id": "DXCBcWVKMbXX"
      }
    },
    {
      "cell_type": "code",
      "execution_count": null,
      "outputs": [],
      "source": [
        "import pandas as pd\n",
        "import json\n",
        "\n",
        "df = pd.read_csv(\"dataset/full_dataset.csv\")"
      ],
      "metadata": {
        "pycharm": {
          "name": "#%%\n"
        },
        "id": "h0iHW6jzMbXY"
      }
    },
    {
      "cell_type": "code",
      "execution_count": null,
      "outputs": [
        {
          "output_type": "execute_result",
          "data": {
            "text/html": [
              "\n",
              "  <div id=\"df-9a27354f-8121-4216-8709-ac32b3c4bcd1\">\n",
              "    <div class=\"colab-df-container\">\n",
              "      <div>\n",
              "<style scoped>\n",
              "    .dataframe tbody tr th:only-of-type {\n",
              "        vertical-align: middle;\n",
              "    }\n",
              "\n",
              "    .dataframe tbody tr th {\n",
              "        vertical-align: top;\n",
              "    }\n",
              "\n",
              "    .dataframe thead th {\n",
              "        text-align: right;\n",
              "    }\n",
              "</style>\n",
              "<table border=\"1\" class=\"dataframe\">\n",
              "  <thead>\n",
              "    <tr style=\"text-align: right;\">\n",
              "      <th></th>\n",
              "      <th>Unnamed: 0</th>\n",
              "      <th>title</th>\n",
              "      <th>ingredients</th>\n",
              "      <th>directions</th>\n",
              "      <th>link</th>\n",
              "      <th>source</th>\n",
              "      <th>NER</th>\n",
              "    </tr>\n",
              "  </thead>\n",
              "  <tbody>\n",
              "    <tr>\n",
              "      <th>0</th>\n",
              "      <td>0</td>\n",
              "      <td>No-Bake Nut Cookies</td>\n",
              "      <td>[\"1 c. firmly packed brown sugar\", \"1/2 c. eva...</td>\n",
              "      <td>[\"In a heavy 2-quart saucepan, mix brown sugar...</td>\n",
              "      <td>www.cookbooks.com/Recipe-Details.aspx?id=44874</td>\n",
              "      <td>Gathered</td>\n",
              "      <td>[\"brown sugar\", \"milk\", \"vanilla\", \"nuts\", \"bu...</td>\n",
              "    </tr>\n",
              "    <tr>\n",
              "      <th>1</th>\n",
              "      <td>1</td>\n",
              "      <td>Jewell Ball'S Chicken</td>\n",
              "      <td>[\"1 small jar chipped beef, cut up\", \"4 boned ...</td>\n",
              "      <td>[\"Place chipped beef on bottom of baking dish....</td>\n",
              "      <td>www.cookbooks.com/Recipe-Details.aspx?id=699419</td>\n",
              "      <td>Gathered</td>\n",
              "      <td>[\"beef\", \"chicken breasts\", \"cream of mushroom...</td>\n",
              "    </tr>\n",
              "    <tr>\n",
              "      <th>2</th>\n",
              "      <td>2</td>\n",
              "      <td>Creamy Corn</td>\n",
              "      <td>[\"2 (16 oz.) pkg. frozen corn\", \"1 (8 oz.) pkg...</td>\n",
              "      <td>[\"In a slow cooker, combine all ingredients. C...</td>\n",
              "      <td>www.cookbooks.com/Recipe-Details.aspx?id=10570</td>\n",
              "      <td>Gathered</td>\n",
              "      <td>[\"frozen corn\", \"cream cheese\", \"butter\", \"gar...</td>\n",
              "    </tr>\n",
              "    <tr>\n",
              "      <th>3</th>\n",
              "      <td>3</td>\n",
              "      <td>Chicken Funny</td>\n",
              "      <td>[\"1 large whole chicken\", \"2 (10 1/2 oz.) cans...</td>\n",
              "      <td>[\"Boil and debone chicken.\", \"Put bite size pi...</td>\n",
              "      <td>www.cookbooks.com/Recipe-Details.aspx?id=897570</td>\n",
              "      <td>Gathered</td>\n",
              "      <td>[\"chicken\", \"chicken gravy\", \"cream of mushroo...</td>\n",
              "    </tr>\n",
              "    <tr>\n",
              "      <th>4</th>\n",
              "      <td>4</td>\n",
              "      <td>Reeses Cups(Candy)</td>\n",
              "      <td>[\"1 c. peanut butter\", \"3/4 c. graham cracker ...</td>\n",
              "      <td>[\"Combine first four ingredients and press in ...</td>\n",
              "      <td>www.cookbooks.com/Recipe-Details.aspx?id=659239</td>\n",
              "      <td>Gathered</td>\n",
              "      <td>[\"peanut butter\", \"graham cracker crumbs\", \"bu...</td>\n",
              "    </tr>\n",
              "    <tr>\n",
              "      <th>...</th>\n",
              "      <td>...</td>\n",
              "      <td>...</td>\n",
              "      <td>...</td>\n",
              "      <td>...</td>\n",
              "      <td>...</td>\n",
              "      <td>...</td>\n",
              "      <td>...</td>\n",
              "    </tr>\n",
              "    <tr>\n",
              "      <th>95</th>\n",
              "      <td>95</td>\n",
              "      <td>Baked Beans</td>\n",
              "      <td>[\"3 (1 lb.) cans pork and beans\", \"1/2 c. bell...</td>\n",
              "      <td>[\"Cook onions and bell pepper in oil until oni...</td>\n",
              "      <td>www.cookbooks.com/Recipe-Details.aspx?id=775763</td>\n",
              "      <td>Gathered</td>\n",
              "      <td>[\"pork\", \"bell pepper\", \"onions\", \"catsup\", \"b...</td>\n",
              "    </tr>\n",
              "    <tr>\n",
              "      <th>96</th>\n",
              "      <td>96</td>\n",
              "      <td>Sweet-N-Sour Chicken</td>\n",
              "      <td>[\"2 c. diced cooked chicken\", \"2 Tbsp. shorten...</td>\n",
              "      <td>[\"Saute onion in 2 tablespoons shortening.\", \"...</td>\n",
              "      <td>www.cookbooks.com/Recipe-Details.aspx?id=228506</td>\n",
              "      <td>Gathered</td>\n",
              "      <td>[\"chicken\", \"shortening\", \"onion\", \"carrot chu...</td>\n",
              "    </tr>\n",
              "    <tr>\n",
              "      <th>97</th>\n",
              "      <td>97</td>\n",
              "      <td>Ambrosia</td>\n",
              "      <td>[\"8 to 10 juicy oranges, peeled and diced\", \"1...</td>\n",
              "      <td>[\"Combine all ingredients. Chill overnight.\", ...</td>\n",
              "      <td>www.cookbooks.com/Recipe-Details.aspx?id=342478</td>\n",
              "      <td>Gathered</td>\n",
              "      <td>[\"oranges\", \"moist coconut\", \"pecans\", \"cherri...</td>\n",
              "    </tr>\n",
              "    <tr>\n",
              "      <th>98</th>\n",
              "      <td>98</td>\n",
              "      <td>Crazy Peanut Butter Cookies</td>\n",
              "      <td>[\"1 c. creamy peanut butter\", \"1 c. sugar\", \"1...</td>\n",
              "      <td>[\"Mix together and roll into balls; flatten wi...</td>\n",
              "      <td>www.cookbooks.com/Recipe-Details.aspx?id=892363</td>\n",
              "      <td>Gathered</td>\n",
              "      <td>[\"peanut butter\", \"sugar\", \"egg\"]</td>\n",
              "    </tr>\n",
              "    <tr>\n",
              "      <th>99</th>\n",
              "      <td>99</td>\n",
              "      <td>Brickle Bars</td>\n",
              "      <td>[\"1 box yellow cake mix\", \"2 eggs\", \"1/3 c. so...</td>\n",
              "      <td>[\"Mix together with a fork:\", \"cake mix, 1 egg...</td>\n",
              "      <td>www.cookbooks.com/Recipe-Details.aspx?id=351194</td>\n",
              "      <td>Gathered</td>\n",
              "      <td>[\"yellow cake mix\", \"eggs\", \"margarine\", \"milk...</td>\n",
              "    </tr>\n",
              "  </tbody>\n",
              "</table>\n",
              "<p>100 rows × 7 columns</p>\n",
              "</div>\n",
              "      <button class=\"colab-df-convert\" onclick=\"convertToInteractive('df-9a27354f-8121-4216-8709-ac32b3c4bcd1')\"\n",
              "              title=\"Convert this dataframe to an interactive table.\"\n",
              "              style=\"display:none;\">\n",
              "        \n",
              "  <svg xmlns=\"http://www.w3.org/2000/svg\" height=\"24px\"viewBox=\"0 0 24 24\"\n",
              "       width=\"24px\">\n",
              "    <path d=\"M0 0h24v24H0V0z\" fill=\"none\"/>\n",
              "    <path d=\"M18.56 5.44l.94 2.06.94-2.06 2.06-.94-2.06-.94-.94-2.06-.94 2.06-2.06.94zm-11 1L8.5 8.5l.94-2.06 2.06-.94-2.06-.94L8.5 2.5l-.94 2.06-2.06.94zm10 10l.94 2.06.94-2.06 2.06-.94-2.06-.94-.94-2.06-.94 2.06-2.06.94z\"/><path d=\"M17.41 7.96l-1.37-1.37c-.4-.4-.92-.59-1.43-.59-.52 0-1.04.2-1.43.59L10.3 9.45l-7.72 7.72c-.78.78-.78 2.05 0 2.83L4 21.41c.39.39.9.59 1.41.59.51 0 1.02-.2 1.41-.59l7.78-7.78 2.81-2.81c.8-.78.8-2.07 0-2.86zM5.41 20L4 18.59l7.72-7.72 1.47 1.35L5.41 20z\"/>\n",
              "  </svg>\n",
              "      </button>\n",
              "      \n",
              "  <style>\n",
              "    .colab-df-container {\n",
              "      display:flex;\n",
              "      flex-wrap:wrap;\n",
              "      gap: 12px;\n",
              "    }\n",
              "\n",
              "    .colab-df-convert {\n",
              "      background-color: #E8F0FE;\n",
              "      border: none;\n",
              "      border-radius: 50%;\n",
              "      cursor: pointer;\n",
              "      display: none;\n",
              "      fill: #1967D2;\n",
              "      height: 32px;\n",
              "      padding: 0 0 0 0;\n",
              "      width: 32px;\n",
              "    }\n",
              "\n",
              "    .colab-df-convert:hover {\n",
              "      background-color: #E2EBFA;\n",
              "      box-shadow: 0px 1px 2px rgba(60, 64, 67, 0.3), 0px 1px 3px 1px rgba(60, 64, 67, 0.15);\n",
              "      fill: #174EA6;\n",
              "    }\n",
              "\n",
              "    [theme=dark] .colab-df-convert {\n",
              "      background-color: #3B4455;\n",
              "      fill: #D2E3FC;\n",
              "    }\n",
              "\n",
              "    [theme=dark] .colab-df-convert:hover {\n",
              "      background-color: #434B5C;\n",
              "      box-shadow: 0px 1px 3px 1px rgba(0, 0, 0, 0.15);\n",
              "      filter: drop-shadow(0px 1px 2px rgba(0, 0, 0, 0.3));\n",
              "      fill: #FFFFFF;\n",
              "    }\n",
              "  </style>\n",
              "\n",
              "      <script>\n",
              "        const buttonEl =\n",
              "          document.querySelector('#df-9a27354f-8121-4216-8709-ac32b3c4bcd1 button.colab-df-convert');\n",
              "        buttonEl.style.display =\n",
              "          google.colab.kernel.accessAllowed ? 'block' : 'none';\n",
              "\n",
              "        async function convertToInteractive(key) {\n",
              "          const element = document.querySelector('#df-9a27354f-8121-4216-8709-ac32b3c4bcd1');\n",
              "          const dataTable =\n",
              "            await google.colab.kernel.invokeFunction('convertToInteractive',\n",
              "                                                     [key], {});\n",
              "          if (!dataTable) return;\n",
              "\n",
              "          const docLinkHtml = 'Like what you see? Visit the ' +\n",
              "            '<a target=\"_blank\" href=https://colab.research.google.com/notebooks/data_table.ipynb>data table notebook</a>'\n",
              "            + ' to learn more about interactive tables.';\n",
              "          element.innerHTML = '';\n",
              "          dataTable['output_type'] = 'display_data';\n",
              "          await google.colab.output.renderOutput(dataTable, element);\n",
              "          const docLink = document.createElement('div');\n",
              "          docLink.innerHTML = docLinkHtml;\n",
              "          element.appendChild(docLink);\n",
              "        }\n",
              "      </script>\n",
              "    </div>\n",
              "  </div>\n",
              "  "
            ],
            "text/plain": [
              "    Unnamed: 0  ...                                                NER\n",
              "0            0  ...  [\"brown sugar\", \"milk\", \"vanilla\", \"nuts\", \"bu...\n",
              "1            1  ...  [\"beef\", \"chicken breasts\", \"cream of mushroom...\n",
              "2            2  ...  [\"frozen corn\", \"cream cheese\", \"butter\", \"gar...\n",
              "3            3  ...  [\"chicken\", \"chicken gravy\", \"cream of mushroo...\n",
              "4            4  ...  [\"peanut butter\", \"graham cracker crumbs\", \"bu...\n",
              "..         ...  ...                                                ...\n",
              "95          95  ...  [\"pork\", \"bell pepper\", \"onions\", \"catsup\", \"b...\n",
              "96          96  ...  [\"chicken\", \"shortening\", \"onion\", \"carrot chu...\n",
              "97          97  ...  [\"oranges\", \"moist coconut\", \"pecans\", \"cherri...\n",
              "98          98  ...                  [\"peanut butter\", \"sugar\", \"egg\"]\n",
              "99          99  ...  [\"yellow cake mix\", \"eggs\", \"margarine\", \"milk...\n",
              "\n",
              "[100 rows x 7 columns]"
            ]
          },
          "metadata": {},
          "execution_count": 4
        }
      ],
      "source": [
        "df.head(100)"
      ],
      "metadata": {
        "pycharm": {
          "name": "#%%\n"
        },
        "id": "3QtunTHKMbXZ",
        "outputId": "7d6a0f0c-9fbb-4ba6-986f-3dc9ceb2e31e",
        "colab": {
          "base_uri": "https://localhost:8080/",
          "height": 658
        }
      }
    },
    {
      "cell_type": "code",
      "execution_count": null,
      "outputs": [],
      "source": [
        "df = df.rename(columns={'Unnamed: 0': 'Id'})"
      ],
      "metadata": {
        "pycharm": {
          "name": "#%%\n"
        },
        "id": "Ic7OEOTFMbXa"
      }
    },
    {
      "cell_type": "markdown",
      "source": [
        "The dataset contains 7 columns:"
      ],
      "metadata": {
        "collapsed": false,
        "id": "t6bQnIe4MbXb"
      }
    },
    {
      "cell_type": "code",
      "execution_count": null,
      "outputs": [
        {
          "output_type": "execute_result",
          "data": {
            "text/plain": [
              "['Id', 'title', 'ingredients', 'directions', 'link', 'source', 'NER']"
            ]
          },
          "metadata": {},
          "execution_count": 6
        }
      ],
      "source": [
        "list(df.columns)"
      ],
      "metadata": {
        "pycharm": {
          "name": "#%%\n"
        },
        "id": "zIRlUdZmMbXb",
        "outputId": "033e782c-ca24-482d-fe7f-998103d9a623",
        "colab": {
          "base_uri": "https://localhost:8080/"
        }
      }
    },
    {
      "cell_type": "markdown",
      "source": [
        "The column title does not contain unique values"
      ],
      "metadata": {
        "collapsed": false,
        "id": "9EE2XvAhMbXc"
      }
    },
    {
      "cell_type": "code",
      "execution_count": null,
      "outputs": [
        {
          "output_type": "stream",
          "name": "stdout",
          "text": [
            "unique titles#: 1312871, all titles#: 2231142\n"
          ]
        }
      ],
      "source": [
        "print(\"unique titles#: \" + str(df[\"title\"].nunique()) + \", all titles#: \" + str(len(df[\"title\"])))"
      ],
      "metadata": {
        "pycharm": {
          "name": "#%%\n"
        },
        "id": "8dumzdSjMbXd",
        "outputId": "81655fd5-062a-46a6-d26d-66d3d9d062e5",
        "colab": {
          "base_uri": "https://localhost:8080/"
        }
      }
    },
    {
      "cell_type": "code",
      "execution_count": null,
      "outputs": [],
      "source": [
        "def print_duplicates(columns):\n",
        "    return {k: v for k, v in sorted({elem[0]: len(elem[1]) for elem in df.groupby(columns) if len(elem[1]) > 1}.items(), key=lambda item: item[1], reverse=True)}"
      ],
      "metadata": {
        "pycharm": {
          "name": "#%%\n"
        },
        "id": "PRv7AV6DMbXd"
      }
    },
    {
      "cell_type": "markdown",
      "source": [
        "There are multiple duplicated title rows.\n",
        "\n",
        "We need to check for duplicates at the title, ingredients and directions levels simultaneously"
      ],
      "metadata": {
        "collapsed": false,
        "id": "2DP1DjZgMbXe"
      }
    },
    {
      "cell_type": "code",
      "execution_count": null,
      "outputs": [
        {
          "output_type": "execute_result",
          "data": {
            "text/plain": [
              "[]"
            ]
          },
          "metadata": {},
          "execution_count": 9
        }
      ],
      "source": [
        "list(print_duplicates(['title', 'ingredients','directions']).items())[:10]\n"
      ],
      "metadata": {
        "pycharm": {
          "name": "#%%\n"
        },
        "id": "TglPbITGMbXe",
        "colab": {
          "base_uri": "https://localhost:8080/"
        },
        "outputId": "80faf833-70d5-4000-aa6e-5d99170889f6"
      }
    },
    {
      "cell_type": "markdown",
      "source": [
        "There are no duplicated rows containing 'title', 'ingredients','directions'."
      ],
      "metadata": {
        "collapsed": false,
        "id": "gRMT_SegMbXe"
      }
    },
    {
      "cell_type": "markdown",
      "source": [
        "Now we check if there are duplicated rows containing 'ingredients','directions' (first 10 duplicated rows):"
      ],
      "metadata": {
        "collapsed": false,
        "id": "wJ6KgM5yMbXf"
      }
    },
    {
      "cell_type": "code",
      "execution_count": null,
      "outputs": [
        {
          "output_type": "execute_result",
          "data": {
            "text/plain": [
              "[]"
            ]
          },
          "metadata": {},
          "execution_count": 10
        }
      ],
      "source": [
        "list(print_duplicates(['ingredients','directions']).items())[:10]"
      ],
      "metadata": {
        "pycharm": {
          "name": "#%%\n"
        },
        "id": "7lbLDw_0MbXf",
        "outputId": "7c75cc04-5bb4-4560-9db2-9c2a03f4e339",
        "colab": {
          "base_uri": "https://localhost:8080/"
        }
      }
    },
    {
      "cell_type": "markdown",
      "source": [
        "Now we check if there are duplicated rows containing 'title','directions' (first 10 duplicated rows):"
      ],
      "metadata": {
        "collapsed": false,
        "id": "Uxaq8OpiMbXf"
      }
    },
    {
      "cell_type": "code",
      "execution_count": null,
      "outputs": [
        {
          "output_type": "execute_result",
          "data": {
            "text/plain": [
              "[(('Fruit Salad', '[\"Mix together and chill.\"]'), 13),\n",
              " (('Punch', '[\"Mix all ingredients together.\"]'), 11),\n",
              " (('Watergate Salad', '[\"Mix all ingredients and refrigerate.\"]'), 10),\n",
              " (('Watergate Salad', '[\"Mix all ingredients together and chill.\"]'), 9),\n",
              " (('Fruit Salad', '[\"Mix all together and chill.\"]'), 8),\n",
              " (('Barbecue Sauce', '[\"Mix all ingredients together.\"]'), 7),\n",
              " (('Broccoli Salad', '[\"Mix all ingredients together.\"]'), 7),\n",
              " (('Fruit Salad', '[\"Mix all ingredients together.\"]'), 7),\n",
              " (('Pistachio Salad', '[\"Mix together and chill.\"]'), 7),\n",
              " (('Vegetable Dip', '[\"Mix all ingredients together.\"]'), 7)]"
            ]
          },
          "metadata": {},
          "execution_count": 11
        }
      ],
      "source": [
        "list(print_duplicates(['title','directions']).items())[:10]"
      ],
      "metadata": {
        "pycharm": {
          "name": "#%%\n"
        },
        "id": "ln3RugePMbXg",
        "outputId": "6c169164-4aba-4ead-cc56-4994df93f050",
        "colab": {
          "base_uri": "https://localhost:8080/"
        }
      }
    },
    {
      "cell_type": "markdown",
      "source": [
        "Now we check if there are duplicated rows containing 'title', 'ingredients' (first 10 duplicated rows):"
      ],
      "metadata": {
        "collapsed": false,
        "id": "Y0LcmOGMMbXg"
      }
    },
    {
      "cell_type": "code",
      "execution_count": null,
      "outputs": [
        {
          "output_type": "execute_result",
          "data": {
            "text/plain": [
              "[(('Simple Syrup', '[\"1 cup sugar\", \"1 cup water\"]'), 10),\n",
              " (('Simple Syrup', '[\"1 cup water\", \"1 cup sugar\"]'), 5),\n",
              " (('Banana Split Cake',\n",
              "   '[\"2 c. graham cracker crumbs\", \"1 stick margarine, melted\"]'),\n",
              "  4),\n",
              " (('Pumpkin Roll',\n",
              "   '[\"3 eggs\", \"1 c. sugar\", \"2/3 c. pumpkin\", \"1 tsp. baking soda\", \"1/2 tsp. cinnamon\", \"3/4 c. flour\"]'),\n",
              "  4),\n",
              " (('Pumpkin Roll',\n",
              "   '[\"3 eggs\", \"1 c. sugar\", \"2/3 c. pumpkin\", \"1 tsp. lemon juice\", \"3/4 c. flour\", \"1 tsp. baking powder\", \"2 tsp. cinnamon\", \"1 tsp. ginger\", \"1/2 tsp. nutmeg\", \"1/2 tsp. salt\"]'),\n",
              "  4),\n",
              " (('Simple Syrup', '[\"1 cup sugar\", \"1/2 cup water\"]'), 4),\n",
              " (('Simple Syrup', '[\"3 cups sugar\", \"3 cups water\"]'), 4),\n",
              " (('Banana Bars',\n",
              "   '[\"1/2 c. butter\", \"1 1/2 c. sugar\", \"2 eggs\", \"3/4 c. buttermilk\", \"2 large ripe bananas\", \"2 c. flour\", \"1/2 tsp. salt\", \"1 tsp. baking soda\", \"1 tsp. vanilla\"]'),\n",
              "  3),\n",
              " (('Bread Pudding',\n",
              "   '[\"1 loaf French bread\", \"1 qt. milk\", \"3 eggs\", \"2 c. sugar\", \"2 Tbsp. vanilla\", \"3 Tbsp. oleo\", \"1 c. raisins\"]'),\n",
              "  3),\n",
              " (('Browned Butter Frosting',\n",
              "   '[\"1 cup butter\", \"1 (16-oz.) package powdered sugar\", \"1/4 cup milk\", \"1 teaspoon vanilla extract\"]'),\n",
              "  3)]"
            ]
          },
          "metadata": {},
          "execution_count": 12
        }
      ],
      "source": [
        "list(print_duplicates(['title', 'ingredients']).items())[:10]"
      ],
      "metadata": {
        "pycharm": {
          "name": "#%%\n"
        },
        "id": "OWYsVWuuMbXg",
        "outputId": "5ce461d8-2fac-499c-ac36-d791d644a2fe",
        "colab": {
          "base_uri": "https://localhost:8080/"
        }
      }
    },
    {
      "cell_type": "markdown",
      "source": [
        "Now we check sample of duplicated rows containing 'title' (first 10 duplicated rows):"
      ],
      "metadata": {
        "collapsed": false,
        "id": "7eTBMLxiMbXg"
      }
    },
    {
      "cell_type": "code",
      "execution_count": null,
      "outputs": [
        {
          "output_type": "execute_result",
          "data": {
            "text/plain": [
              "[('Chicken Casserole', 4099),\n",
              " ('Broccoli Casserole', 3985),\n",
              " ('Squash Casserole', 2508),\n",
              " ('Cheese Ball', 2426),\n",
              " ('Zucchini Bread', 2298),\n",
              " ('Pecan Pie', 2285),\n",
              " ('Banana Bread', 2085),\n",
              " ('Meat Loaf', 1769),\n",
              " ('Pumpkin Bread', 1729),\n",
              " ('Corn Casserole', 1726)]"
            ]
          },
          "metadata": {},
          "execution_count": 13
        }
      ],
      "source": [
        "list(print_duplicates(['title']).items())[:10]"
      ],
      "metadata": {
        "pycharm": {
          "name": "#%%\n"
        },
        "id": "_YxEJlrhMbXh",
        "outputId": "fcb739df-d13d-46a8-f42e-b537f975cd50",
        "colab": {
          "base_uri": "https://localhost:8080/"
        }
      }
    },
    {
      "cell_type": "markdown",
      "source": [
        "Now we check if there are duplicated rows containing 'ingredients' (first 10 duplicated rows):"
      ],
      "metadata": {
        "collapsed": false,
        "id": "SfBS6bmrMbXh"
      }
    },
    {
      "cell_type": "code",
      "execution_count": null,
      "outputs": [
        {
          "output_type": "execute_result",
          "data": {
            "text/plain": [
              "[('[\"1 c. peanut butter\", \"1 c. sugar\", \"1 egg\"]', 28),\n",
              " ('[\"1 c. peanut butter\", \"1 c. sugar\", \"1 egg\", \"1 tsp. vanilla\"]', 22),\n",
              " ('[\"Ingredients:\"]', 21),\n",
              " ('[\"1 box yellow cake mix\"]', 18),\n",
              " ('[\"1 cup sugar\", \"1 cup water\"]', 15),\n",
              " ('[\"1 c. sugar\", \"1 c. peanut butter\", \"1 egg\"]', 13),\n",
              " ('[\"1 c. peanut butter\", \"1 egg\", \"1 c. sugar\"]', 11),\n",
              " ('[\"1 c. salt\", \"2 c. flour\", \"1 c. water\"]', 11),\n",
              " ('[\"1 c. mayonnaise\", \"1/2 c. sugar\", \"1/4 c. vinegar\"]', 10),\n",
              " ('[\"1 c. self-rising flour\", \"1/2 c. milk\", \"2 Tbsp. mayonnaise\"]', 10)]"
            ]
          },
          "metadata": {},
          "execution_count": 14
        }
      ],
      "source": [
        "list(print_duplicates(['ingredients']).items())[:10]"
      ],
      "metadata": {
        "pycharm": {
          "name": "#%%\n"
        },
        "id": "2xWqv7WTMbXh",
        "outputId": "5ee585a6-5774-4757-f061-5c9692c56eec",
        "colab": {
          "base_uri": "https://localhost:8080/"
        }
      }
    },
    {
      "cell_type": "markdown",
      "source": [
        "Now we check if there are duplicated rows containing 'directions' (first 10 duplicated rows):"
      ],
      "metadata": {
        "collapsed": false,
        "id": "lGgJVio_MbXh"
      }
    },
    {
      "cell_type": "code",
      "execution_count": null,
      "outputs": [
        {
          "output_type": "execute_result",
          "data": {
            "text/plain": [
              "[('[\"Mix all ingredients together.\"]', 274),\n",
              " ('[\"Put ingredients into bread machine and press \\\\\"Start\\\\\".\"]', 234),\n",
              " ('[\"Mix together and chill.\"]', 182),\n",
              " ('[\"Mix all ingredients together and chill.\"]', 162),\n",
              " ('[\"Preheat oven to 350 degrees.\"]', 156),\n",
              " ('[\"Mix all together and chill.\"]', 127),\n",
              " ('[\"Mix all ingredients and chill.\"]', 120),\n",
              " ('[\"Combine ingredients.\"]', 116),\n",
              " ('[\"Ice // rocks\"]', 104),\n",
              " ('[\"Preheat oven to 350\\\\u00b0.\"]', 96)]"
            ]
          },
          "metadata": {},
          "execution_count": 15
        }
      ],
      "source": [
        "list(print_duplicates(['directions']).items())[:10]\n"
      ],
      "metadata": {
        "pycharm": {
          "name": "#%%\n"
        },
        "id": "ELiJoHUKMbXi",
        "outputId": "0d7cc4c0-d766-4220-cb45-c40782759347",
        "colab": {
          "base_uri": "https://localhost:8080/"
        }
      }
    },
    {
      "cell_type": "code",
      "execution_count": null,
      "outputs": [
        {
          "output_type": "execute_result",
          "data": {
            "text/plain": [
              "['1 c. firmly packed brown sugar',\n",
              " '1/2 c. evaporated milk',\n",
              " '1/2 tsp. vanilla',\n",
              " '1/2 c. broken nuts (pecans)',\n",
              " '2 Tbsp. butter or margarine',\n",
              " '3 1/2 c. bite size shredded rice biscuits']"
            ]
          },
          "metadata": {},
          "execution_count": 16
        }
      ],
      "source": [
        "json.loads(df.head()[\"ingredients\"].tolist()[0])"
      ],
      "metadata": {
        "pycharm": {
          "name": "#%%\n"
        },
        "id": "c7sBjJVkMbXi",
        "colab": {
          "base_uri": "https://localhost:8080/"
        },
        "outputId": "9e84a1b9-2e9a-4ebb-cd17-df9fff6f3243"
      }
    },
    {
      "cell_type": "code",
      "execution_count": null,
      "outputs": [
        {
          "output_type": "execute_result",
          "data": {
            "text/plain": [
              "['In a heavy 2-quart saucepan, mix brown sugar, nuts, evaporated milk and butter or margarine.',\n",
              " 'Stir over medium heat until mixture bubbles all over top.',\n",
              " 'Boil and stir 5 minutes more. Take off heat.',\n",
              " 'Stir in vanilla and cereal; mix well.',\n",
              " 'Using 2 teaspoons, drop and shape into 30 clusters on wax paper.',\n",
              " 'Let stand until firm, about 30 minutes.']"
            ]
          },
          "metadata": {},
          "execution_count": 17
        }
      ],
      "source": [
        "json.loads(df.head()[\"directions\"].tolist()[0])"
      ],
      "metadata": {
        "pycharm": {
          "name": "#%%\n"
        },
        "id": "SlCRKFhwMbXi",
        "outputId": "99e486b6-755d-4674-a397-8cc891541234",
        "colab": {
          "base_uri": "https://localhost:8080/"
        }
      }
    },
    {
      "cell_type": "code",
      "execution_count": null,
      "outputs": [
        {
          "output_type": "execute_result",
          "data": {
            "text/plain": [
              "['brown sugar',\n",
              " 'milk',\n",
              " 'vanilla',\n",
              " 'nuts',\n",
              " 'butter',\n",
              " 'bite size shredded rice biscuits']"
            ]
          },
          "metadata": {},
          "execution_count": 18
        }
      ],
      "source": [
        "json.loads(df.head()[\"NER\"].tolist()[0])"
      ],
      "metadata": {
        "pycharm": {
          "name": "#%%\n"
        },
        "id": "zPRd4uQNMbXi",
        "outputId": "3e82fe38-6764-4bb0-ad8a-a01d186126fb",
        "colab": {
          "base_uri": "https://localhost:8080/"
        }
      }
    },
    {
      "cell_type": "code",
      "execution_count": null,
      "outputs": [
        {
          "output_type": "execute_result",
          "data": {
            "text/html": [
              "\n",
              "  <div id=\"df-d6a9b883-2842-4f64-89bf-5b950b2e3c66\">\n",
              "    <div class=\"colab-df-container\">\n",
              "      <div>\n",
              "<style scoped>\n",
              "    .dataframe tbody tr th:only-of-type {\n",
              "        vertical-align: middle;\n",
              "    }\n",
              "\n",
              "    .dataframe tbody tr th {\n",
              "        vertical-align: top;\n",
              "    }\n",
              "\n",
              "    .dataframe thead th {\n",
              "        text-align: right;\n",
              "    }\n",
              "</style>\n",
              "<table border=\"1\" class=\"dataframe\">\n",
              "  <thead>\n",
              "    <tr style=\"text-align: right;\">\n",
              "      <th></th>\n",
              "      <th>Id</th>\n",
              "      <th>title</th>\n",
              "      <th>ingredients</th>\n",
              "      <th>directions</th>\n",
              "      <th>link</th>\n",
              "      <th>source</th>\n",
              "      <th>NER</th>\n",
              "    </tr>\n",
              "  </thead>\n",
              "  <tbody>\n",
              "    <tr>\n",
              "      <th>896341</th>\n",
              "      <td>896341</td>\n",
              "      <td>Deconstructed Screwdriver (The Raw Egg)</td>\n",
              "      <td>[\"1/4 cup orange juice, or as desired\", \"2 (1....</td>\n",
              "      <td>[\"Fill a food-safe silicon-based round ice mol...</td>\n",
              "      <td>www.allrecipes.com/recipe/241895/deconstructed...</td>\n",
              "      <td>Gathered</td>\n",
              "      <td>[\"orange juice\", \"jiggers vodka\"]</td>\n",
              "    </tr>\n",
              "    <tr>\n",
              "      <th>896342</th>\n",
              "      <td>896342</td>\n",
              "      <td>Kettle Corn</td>\n",
              "      <td>[\"1/4 cup vegetable oil\", \"1/4 cup white sugar...</td>\n",
              "      <td>[\"Heat the vegetable oil in a large pot over m...</td>\n",
              "      <td>www.allrecipes.com/recipe/20808/kettle-corn/</td>\n",
              "      <td>Gathered</td>\n",
              "      <td>[\"vegetable oil\", \"white sugar\", \"popcorn kern...</td>\n",
              "    </tr>\n",
              "    <tr>\n",
              "      <th>896343</th>\n",
              "      <td>896343</td>\n",
              "      <td>Pop'S Fabulous Ajvar</td>\n",
              "      <td>[\"2 1/2 pounds firm, shiny eggplants\", \"3 larg...</td>\n",
              "      <td>[\"Preheat oven to 350 degrees F (175 degrees C...</td>\n",
              "      <td>www.allrecipes.com/recipe/238733/pops-fabulous...</td>\n",
              "      <td>Gathered</td>\n",
              "      <td>[\"eggplants\", \"green bell peppers\", \"red bell ...</td>\n",
              "    </tr>\n",
              "    <tr>\n",
              "      <th>896344</th>\n",
              "      <td>896344</td>\n",
              "      <td>Chipotle-Mango Guacamole</td>\n",
              "      <td>[\"4 avocados, mashed\", \"2 Roma (plum) tomatoes...</td>\n",
              "      <td>[\"Stir avocados, tomatoes, mango, cilantro, re...</td>\n",
              "      <td>www.allrecipes.com/recipe/241254/chipotle-mang...</td>\n",
              "      <td>Gathered</td>\n",
              "      <td>[\"avocados\", \"tomatoes\", \"mango\", \"cilantro\", ...</td>\n",
              "    </tr>\n",
              "    <tr>\n",
              "      <th>896345</th>\n",
              "      <td>896345</td>\n",
              "      <td>Basic Homemade Ricotta Cheese</td>\n",
              "      <td>[\"7 cups whole milk\", \"1/2 cup heavy whipping ...</td>\n",
              "      <td>[\"Place milk, cream, and vinegar in a saucepan...</td>\n",
              "      <td>www.allrecipes.com/recipe/261696/basic-homemad...</td>\n",
              "      <td>Gathered</td>\n",
              "      <td>[\"milk\", \"heavy whipping cream\", \"white vinega...</td>\n",
              "    </tr>\n",
              "    <tr>\n",
              "      <th>...</th>\n",
              "      <td>...</td>\n",
              "      <td>...</td>\n",
              "      <td>...</td>\n",
              "      <td>...</td>\n",
              "      <td>...</td>\n",
              "      <td>...</td>\n",
              "      <td>...</td>\n",
              "    </tr>\n",
              "    <tr>\n",
              "      <th>2231137</th>\n",
              "      <td>2231137</td>\n",
              "      <td>Sunny's Fake Crepes</td>\n",
              "      <td>[\"1/2 cup chocolate hazelnut spread (recommend...</td>\n",
              "      <td>[\"Spread hazelnut spread on 1 side of each tor...</td>\n",
              "      <td>www.foodnetwork.com/recipes/sunny-anderson/sun...</td>\n",
              "      <td>Recipes1M</td>\n",
              "      <td>[\"chocolate hazelnut spread\", \"tortillas\", \"bu...</td>\n",
              "    </tr>\n",
              "    <tr>\n",
              "      <th>2231138</th>\n",
              "      <td>2231138</td>\n",
              "      <td>Devil Eggs</td>\n",
              "      <td>[\"1 dozen eggs\", \"1 paprika\", \"1 salt and pepp...</td>\n",
              "      <td>[\"Boil eggs on medium for 30mins.\", \"Then cool...</td>\n",
              "      <td>cookpad.com/us/recipes/355411-devil-eggs</td>\n",
              "      <td>Recipes1M</td>\n",
              "      <td>[\"eggs\", \"paprika\", \"salt\", \"choice\", \"miracle...</td>\n",
              "    </tr>\n",
              "    <tr>\n",
              "      <th>2231139</th>\n",
              "      <td>2231139</td>\n",
              "      <td>Extremely Easy and Quick - Namul Daikon Salad</td>\n",
              "      <td>[\"150 grams Daikon radish\", \"1 tbsp Sesame oil...</td>\n",
              "      <td>[\"Julienne the daikon and squeeze out the exce...</td>\n",
              "      <td>cookpad.com/us/recipes/153324-extremely-easy-a...</td>\n",
              "      <td>Recipes1M</td>\n",
              "      <td>[\"radish\", \"Sesame oil\", \"White sesame seeds\",...</td>\n",
              "    </tr>\n",
              "    <tr>\n",
              "      <th>2231140</th>\n",
              "      <td>2231140</td>\n",
              "      <td>Pan-Roasted Pork Chops With Apple Fritters</td>\n",
              "      <td>[\"1 cup apple cider\", \"6 tablespoons sugar\", \"...</td>\n",
              "      <td>[\"In a large bowl, mix the apple cider with 4 ...</td>\n",
              "      <td>cooking.nytimes.com/recipes/1015164</td>\n",
              "      <td>Recipes1M</td>\n",
              "      <td>[\"apple cider\", \"sugar\", \"kosher salt\", \"bay l...</td>\n",
              "    </tr>\n",
              "    <tr>\n",
              "      <th>2231141</th>\n",
              "      <td>2231141</td>\n",
              "      <td>Polpette in Spicy Tomato Sauce</td>\n",
              "      <td>[\"1 pound ground veal\", \"1/2 pound sweet Itali...</td>\n",
              "      <td>[\"Preheat the oven to 350.\", \"In a bowl, mix t...</td>\n",
              "      <td>www.foodandwine.com/recipes/polpette-spicy-tom...</td>\n",
              "      <td>Recipes1M</td>\n",
              "      <td>[\"ground veal\", \"sausage\", \"bread crumbs\", \"mi...</td>\n",
              "    </tr>\n",
              "  </tbody>\n",
              "</table>\n",
              "<p>1334801 rows × 7 columns</p>\n",
              "</div>\n",
              "      <button class=\"colab-df-convert\" onclick=\"convertToInteractive('df-d6a9b883-2842-4f64-89bf-5b950b2e3c66')\"\n",
              "              title=\"Convert this dataframe to an interactive table.\"\n",
              "              style=\"display:none;\">\n",
              "        \n",
              "  <svg xmlns=\"http://www.w3.org/2000/svg\" height=\"24px\"viewBox=\"0 0 24 24\"\n",
              "       width=\"24px\">\n",
              "    <path d=\"M0 0h24v24H0V0z\" fill=\"none\"/>\n",
              "    <path d=\"M18.56 5.44l.94 2.06.94-2.06 2.06-.94-2.06-.94-.94-2.06-.94 2.06-2.06.94zm-11 1L8.5 8.5l.94-2.06 2.06-.94-2.06-.94L8.5 2.5l-.94 2.06-2.06.94zm10 10l.94 2.06.94-2.06 2.06-.94-2.06-.94-.94-2.06-.94 2.06-2.06.94z\"/><path d=\"M17.41 7.96l-1.37-1.37c-.4-.4-.92-.59-1.43-.59-.52 0-1.04.2-1.43.59L10.3 9.45l-7.72 7.72c-.78.78-.78 2.05 0 2.83L4 21.41c.39.39.9.59 1.41.59.51 0 1.02-.2 1.41-.59l7.78-7.78 2.81-2.81c.8-.78.8-2.07 0-2.86zM5.41 20L4 18.59l7.72-7.72 1.47 1.35L5.41 20z\"/>\n",
              "  </svg>\n",
              "      </button>\n",
              "      \n",
              "  <style>\n",
              "    .colab-df-container {\n",
              "      display:flex;\n",
              "      flex-wrap:wrap;\n",
              "      gap: 12px;\n",
              "    }\n",
              "\n",
              "    .colab-df-convert {\n",
              "      background-color: #E8F0FE;\n",
              "      border: none;\n",
              "      border-radius: 50%;\n",
              "      cursor: pointer;\n",
              "      display: none;\n",
              "      fill: #1967D2;\n",
              "      height: 32px;\n",
              "      padding: 0 0 0 0;\n",
              "      width: 32px;\n",
              "    }\n",
              "\n",
              "    .colab-df-convert:hover {\n",
              "      background-color: #E2EBFA;\n",
              "      box-shadow: 0px 1px 2px rgba(60, 64, 67, 0.3), 0px 1px 3px 1px rgba(60, 64, 67, 0.15);\n",
              "      fill: #174EA6;\n",
              "    }\n",
              "\n",
              "    [theme=dark] .colab-df-convert {\n",
              "      background-color: #3B4455;\n",
              "      fill: #D2E3FC;\n",
              "    }\n",
              "\n",
              "    [theme=dark] .colab-df-convert:hover {\n",
              "      background-color: #434B5C;\n",
              "      box-shadow: 0px 1px 3px 1px rgba(0, 0, 0, 0.15);\n",
              "      filter: drop-shadow(0px 1px 2px rgba(0, 0, 0, 0.3));\n",
              "      fill: #FFFFFF;\n",
              "    }\n",
              "  </style>\n",
              "\n",
              "      <script>\n",
              "        const buttonEl =\n",
              "          document.querySelector('#df-d6a9b883-2842-4f64-89bf-5b950b2e3c66 button.colab-df-convert');\n",
              "        buttonEl.style.display =\n",
              "          google.colab.kernel.accessAllowed ? 'block' : 'none';\n",
              "\n",
              "        async function convertToInteractive(key) {\n",
              "          const element = document.querySelector('#df-d6a9b883-2842-4f64-89bf-5b950b2e3c66');\n",
              "          const dataTable =\n",
              "            await google.colab.kernel.invokeFunction('convertToInteractive',\n",
              "                                                     [key], {});\n",
              "          if (!dataTable) return;\n",
              "\n",
              "          const docLinkHtml = 'Like what you see? Visit the ' +\n",
              "            '<a target=\"_blank\" href=https://colab.research.google.com/notebooks/data_table.ipynb>data table notebook</a>'\n",
              "            + ' to learn more about interactive tables.';\n",
              "          element.innerHTML = '';\n",
              "          dataTable['output_type'] = 'display_data';\n",
              "          await google.colab.output.renderOutput(dataTable, element);\n",
              "          const docLink = document.createElement('div');\n",
              "          docLink.innerHTML = docLinkHtml;\n",
              "          element.appendChild(docLink);\n",
              "        }\n",
              "      </script>\n",
              "    </div>\n",
              "  </div>\n",
              "  "
            ],
            "text/plain": [
              "              Id  ...                                                NER\n",
              "896341    896341  ...                  [\"orange juice\", \"jiggers vodka\"]\n",
              "896342    896342  ...  [\"vegetable oil\", \"white sugar\", \"popcorn kern...\n",
              "896343    896343  ...  [\"eggplants\", \"green bell peppers\", \"red bell ...\n",
              "896344    896344  ...  [\"avocados\", \"tomatoes\", \"mango\", \"cilantro\", ...\n",
              "896345    896345  ...  [\"milk\", \"heavy whipping cream\", \"white vinega...\n",
              "...          ...  ...                                                ...\n",
              "2231137  2231137  ...  [\"chocolate hazelnut spread\", \"tortillas\", \"bu...\n",
              "2231138  2231138  ...  [\"eggs\", \"paprika\", \"salt\", \"choice\", \"miracle...\n",
              "2231139  2231139  ...  [\"radish\", \"Sesame oil\", \"White sesame seeds\",...\n",
              "2231140  2231140  ...  [\"apple cider\", \"sugar\", \"kosher salt\", \"bay l...\n",
              "2231141  2231141  ...  [\"ground veal\", \"sausage\", \"bread crumbs\", \"mi...\n",
              "\n",
              "[1334801 rows x 7 columns]"
            ]
          },
          "metadata": {},
          "execution_count": 19
        }
      ],
      "source": [
        "df[~df[\"link\"].str.contains(\"www.cookbooks.com\")]"
      ],
      "metadata": {
        "pycharm": {
          "name": "#%%\n"
        },
        "id": "dlzNT3sdMbXj",
        "outputId": "5e3f8ea6-f23e-411f-b056-39c12eb43b9a",
        "colab": {
          "base_uri": "https://localhost:8080/",
          "height": 641
        }
      }
    },
    {
      "cell_type": "code",
      "execution_count": null,
      "outputs": [
        {
          "output_type": "execute_result",
          "data": {
            "text/plain": [
              "count    2.231142e+06\n",
              "mean     8.727042e+00\n",
              "std      4.024347e+00\n",
              "min      1.000000e+00\n",
              "25%      6.000000e+00\n",
              "50%      8.000000e+00\n",
              "75%      1.100000e+01\n",
              "max      4.070000e+02\n",
              "Name: ingredients, dtype: float64"
            ]
          },
          "metadata": {},
          "execution_count": 20
        }
      ],
      "source": [
        "df[\"ingredients\"].apply(json.loads).apply(len).describe()"
      ],
      "metadata": {
        "pycharm": {
          "name": "#%%\n"
        },
        "id": "SL635HC6MbXj",
        "outputId": "4238261b-b776-40e3-c368-8f749f321701",
        "colab": {
          "base_uri": "https://localhost:8080/"
        }
      }
    },
    {
      "cell_type": "code",
      "execution_count": null,
      "outputs": [],
      "source": [
        "df[\"ingredients_len\"] = df[\"ingredients\"].apply(json.loads).apply(len)"
      ],
      "metadata": {
        "pycharm": {
          "name": "#%%\n"
        },
        "id": "fqSkg4X_MbXj"
      }
    },
    {
      "cell_type": "markdown",
      "source": [
        "Below there is a histogram showing number of elements in the 'ingredients' column"
      ],
      "metadata": {
        "collapsed": false,
        "id": "klZ77n-5MbXj"
      }
    },
    {
      "cell_type": "code",
      "execution_count": null,
      "outputs": [
        {
          "output_type": "stream",
          "name": "stderr",
          "text": [
            "/usr/local/lib/python3.7/dist-packages/seaborn/_decorators.py:43: FutureWarning: Pass the following variable as a keyword arg: x. From version 0.12, the only valid positional argument will be `data`, and passing other arguments without an explicit keyword will result in an error or misinterpretation.\n",
            "  FutureWarning\n"
          ]
        },
        {
          "output_type": "display_data",
          "data": {
            "image/png": "[encoded data removed]",
            "text/plain": [
              "<Figure size 2592x864 with 1 Axes>"
            ]
          },
          "metadata": {
            "needs_background": "light"
          }
        }
      ],
      "source": [
        "import matplotlib.pyplot as plt\n",
        "import seaborn as sns\n",
        "y = df[\"ingredients_len\"]\n",
        "plt.figure(figsize=(18*2, 12))\n",
        "g = sns.countplot(y)\n",
        "# g = sns.histplot(y, bins=100)\n",
        "g.set(yscale=\"linear\")\n",
        "plt.xticks(rotation=90)\n",
        "plt.show()"
      ],
      "metadata": {
        "pycharm": {
          "name": "#%%\n"
        },
        "id": "n2ErFBrNMbXj",
        "outputId": "cc7e1de6-da52-4793-e2fb-8e697d163470",
        "colab": {
          "base_uri": "https://localhost:8080/",
          "height": 552
        }
      }
    },
    {
      "cell_type": "code",
      "execution_count": null,
      "outputs": [
        {
          "output_type": "execute_result",
          "data": {
            "text/plain": [
              "count    2.231142e+06\n",
              "mean     6.613628e+00\n",
              "std      5.323238e+00\n",
              "min      1.000000e+00\n",
              "25%      3.000000e+00\n",
              "50%      5.000000e+00\n",
              "75%      8.000000e+00\n",
              "max      1.640000e+02\n",
              "Name: directions, dtype: float64"
            ]
          },
          "metadata": {},
          "execution_count": 23
        }
      ],
      "source": [
        "df[\"directions\"].apply(json.loads).apply(len).describe()"
      ],
      "metadata": {
        "pycharm": {
          "name": "#%%\n"
        },
        "id": "aar2mzj1MbXj",
        "outputId": "0936133b-f77c-4bdf-f0cd-cede28058498",
        "colab": {
          "base_uri": "https://localhost:8080/"
        }
      }
    },
    {
      "cell_type": "markdown",
      "source": [
        "Below there is a histogram showing number of elements in the 'directions' column"
      ],
      "metadata": {
        "id": "xcawJRjhOjel"
      }
    },
    {
      "cell_type": "code",
      "execution_count": null,
      "outputs": [],
      "source": [
        "df[\"directions_len\"] = df[\"directions\"].apply(json.loads).apply(len)"
      ],
      "metadata": {
        "pycharm": {
          "name": "#%%\n"
        },
        "id": "BSY2rCzTMbXk"
      }
    },
    {
      "cell_type": "code",
      "execution_count": null,
      "outputs": [
        {
          "output_type": "stream",
          "name": "stderr",
          "text": [
            "/usr/local/lib/python3.7/dist-packages/seaborn/_decorators.py:43: FutureWarning: Pass the following variable as a keyword arg: x. From version 0.12, the only valid positional argument will be `data`, and passing other arguments without an explicit keyword will result in an error or misinterpretation.\n",
            "  FutureWarning\n"
          ]
        },
        {
          "output_type": "display_data",
          "data": {
            "image/png": "[encoded data removed]",
            "text/plain": [
              "<Figure size 2592x864 with 1 Axes>"
            ]
          },
          "metadata": {
            "needs_background": "light"
          }
        }
      ],
      "source": [
        "y = df[\"directions_len\"]\n",
        "plt.figure(figsize=(18*2, 12))\n",
        "g = sns.countplot(y)\n",
        "g.set(yscale=\"linear\")\n",
        "plt.xticks(rotation=90)\n",
        "plt.show()"
      ],
      "metadata": {
        "pycharm": {
          "name": "#%%\n"
        },
        "id": "tYW6FrhzMbXk",
        "outputId": "0856a62a-c16f-40f9-ef57-c741f7ed93cd",
        "colab": {
          "base_uri": "https://localhost:8080/",
          "height": 552
        }
      }
    },
    {
      "cell_type": "code",
      "source": [
        "y = df[\"source\"]\n",
        "plt.figure(figsize=(18*2, 12))\n",
        "g = sns.countplot(y)\n",
        "g.set(yscale=\"linear\")\n",
        "plt.xticks(rotation=90)\n",
        "plt.show()"
      ],
      "metadata": {
        "colab": {
          "base_uri": "https://localhost:8080/",
          "height": 588
        },
        "id": "LQR_1BRCyWu-",
        "outputId": "ebe43633-1ec5-4041-b830-cc40f362bfe7"
      },
      "execution_count": null,
      "outputs": [
        {
          "output_type": "stream",
          "name": "stderr",
          "text": [
            "/usr/local/lib/python3.7/dist-packages/seaborn/_decorators.py:43: FutureWarning: Pass the following variable as a keyword arg: x. From version 0.12, the only valid positional argument will be `data`, and passing other arguments without an explicit keyword will result in an error or misinterpretation.\n",
            "  FutureWarning\n"
          ]
        },
        {
          "output_type": "display_data",
          "data": {
            "image/png": "[encoded data removed]",
            "text/plain": [
              "<Figure size 2592x864 with 1 Axes>"
            ]
          },
          "metadata": {
            "needs_background": "light"
          }
        }
      ]
    },
    {
      "cell_type": "markdown",
      "source": [
        "**Summary**\n",
        "\n",
        "The dataset contains 7 columns:\n",
        "\n",
        "*   Id\n",
        "*   title\n",
        "*   ingredients\n",
        "*   directions\n",
        "*   link\n",
        "*   source\n",
        "*   NER\n",
        "\n",
        "*Title* is a short string that is scraped from the recipe website. There are 1312871 unique titles out of 2231142, this is because different recipes sometimes have the same title, not that there are duplicates in the dataset.\n",
        "\n",
        "*Ingredients* are in the form of json list that contains 8.7 elements on average. The shortest list contains 1 element and the longest 407! There several rows that contain the same list of elements but they belong to different recipes.\n",
        "\n",
        "*Directions* are in the form of json list that contains 6.6 elements on average. The shortest list contains 1 element and the longest 164. There several rows that contain the same list of elements but they belong to different recipes.\n",
        "\n",
        "There are multiple rows that have same *title* and ingredient or *title* and directions which indicate that there several recipes are simmilar.\n",
        "\n",
        "*Link* column contains the webpage from which particular recipe was scraped.\n",
        "\n",
        "*NER* column contains identified food entities belonging to the particular recipe based on the ingredients column\n",
        "\n",
        "\n",
        "*Source* column indicates whether the recipe was gathered from the webpage or taken from the Recipes1M dataset. We can see that more than 1.6 recipes were gather from the web and about 600k were taken from the Recipes1M dataset\n"
      ],
      "metadata": {
        "collapsed": false,
        "id": "VzXkijWLMbXk"
      }
    }
  ],
  "metadata": {
    "kernelspec": {
      "display_name": "Python 3",
      "language": "python",
      "name": "python3"
    },
    "language_info": {
      "codemirror_mode": {
        "name": "ipython",
        "version": 2
      },
      "file_extension": ".py",
      "mimetype": "text/x-python",
      "name": "python",
      "nbconvert_exporter": "python",
      "pygments_lexer": "ipython2",
      "version": "2.7.6"
    },
    "colab": {
      "name": "exploratory_analysis.ipynb",
      "provenance": [],
      "collapsed_sections": []
    }
  },
  "nbformat": 4,
  "nbformat_minor": 0
}