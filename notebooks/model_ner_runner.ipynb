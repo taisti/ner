{
  "cells": [
    {
      "cell_type": "markdown",
      "metadata": {
        "id": "6lkaRwH1wB8c"
      },
      "source": [
        "# Google Colab"
      ]
    },
    {
      "cell_type": "code",
      "execution_count": null,
      "metadata": {
        "id": "rPIZjNAywFVJ"
      },
      "outputs": [],
      "source": [
        "# %%capture\n",
        "# # uncomment to install required libraries in Google Colabture\n",
        "# ! pip install transformers\n",
        "# ! pip install datasets\n",
        "# ! pip install seqeval\n",
        "# ! pip install mendelai-brat-parser\n",
        "# ! pip install spacy==3.2.0\n",
        "# ! pip install nervaluate\n",
        "\n",
        "# ! python -m spacy download en_core_web_sm"
      ]
    },
    {
      "cell_type": "code",
      "execution_count": null,
      "metadata": {
        "colab": {
          "base_uri": "https://localhost:8080/"
        },
        "id": "nzeSkI5OyxEa",
        "outputId": "43246a7c-1c37-456f-8cd1-bb67b7daabf8"
      },
      "outputs": [
        {
          "output_type": "stream",
          "name": "stdout",
          "text": [
            "Mounted at /content/drive\n"
          ]
        }
      ],
      "source": [
        "from google.colab import drive\n",
        "drive.mount('/content/drive')"
      ]
    },
    {
      "cell_type": "code",
      "execution_count": null,
      "metadata": {
        "id": "U_YkuXkaSoX-"
      },
      "outputs": [],
      "source": [
        "# cd /content/drive/MyDrive/TAISTI/WP1/NER"
      ]
    },
    {
      "cell_type": "markdown",
      "metadata": {
        "id": "kTviy0wIwN-4"
      },
      "source": [
        "# Libraries"
      ]
    },
    {
      "cell_type": "code",
      "execution_count": null,
      "metadata": {
        "id": "E4CthXXj0Crb",
        "colab": {
          "base_uri": "https://localhost:8080/",
          "height": 48,
          "referenced_widgets": [
            "aa17c4450d46493a9924ad4fcda4696f",
            "890598fecf2f4d8299cd134983871ac1",
            "e5c50ed01d10403fa611da72bb37d01f",
            "d6981dbd3fb04633b77e2c6935b734be",
            "171b14418536487e8155ca41f06ed76b",
            "36167aa3eec64cbb8caeba7b2df5974e",
            "aaa9bd0ab56e4c1ebd16ed4e1a45ebfc",
            "e09196ebdf834ddf8dd0e43748042c46",
            "3bb4627b2be04d70bd87f9830a0aea14",
            "33124233fb6e42e885c64be68112fa33",
            "4b7114d9995d4e698bac83f4025463ae"
          ]
        },
        "outputId": "76e1247e-889c-435d-902c-623dc8c92521"
      },
      "outputs": [
        {
          "output_type": "display_data",
          "data": {
            "application/vnd.jupyter.widget-view+json": {
              "model_id": "aa17c4450d46493a9924ad4fcda4696f",
              "version_minor": 0,
              "version_major": 2
            },
            "text/plain": [
              "Downloading:   0%|          | 0.00/2.47k [00:00<?, ?B/s]"
            ]
          },
          "metadata": {}
        }
      ],
      "source": [
        "import pandas as pd\n",
        "import re\n",
        "\n",
        "import prepare_data_utils\n",
        "from model import NERTaisti"
      ]
    },
    {
      "cell_type": "code",
      "execution_count": null,
      "metadata": {
        "id": "ZyMFUCip1LSu"
      },
      "outputs": [],
      "source": [
        "ALL_ENTITIES_HIERARCHY = [\n",
        "    \"quantity\",\n",
        "    \"unit\",\n",
        "    \"food_product_with_unit\",\n",
        "    \"food_product_without_unit_countable\",\n",
        "    \"food_product_without_unit_uncountable\",\n",
        "    \"food_product_whole\",\n",
        "    \"process\",\n",
        "    \"physical_quality\",\n",
        "    \"color\",\n",
        "    \"trade_name\",\n",
        "    \"example\",\n",
        "    \"taste\",\n",
        "    \"purpose\",\n",
        "    \"diet\",\n",
        "    \"part\",\n",
        "    \"possible_substitute\",\n",
        "    \"excluded\",\n",
        "    \"exclusive\"\n",
        "]"
      ]
    },
    {
      "cell_type": "code",
      "source": [
        "ENTITIES_MAP = {\n",
        "    entity: \"O\" if \"food\" not in entity else \"FOOD\"\n",
        "    for entity in ALL_ENTITIES_HIERARCHY\n",
        "}\n",
        "\n",
        "for entity in [\"quantity\", \"unit\", \"color\", \"physical_quality\", \"process\"]:\n",
        "    ENTITIES_MAP[entity] = entity.upper()"
      ],
      "metadata": {
        "id": "uvIQDCf7zzMH"
      },
      "execution_count": null,
      "outputs": []
    },
    {
      "cell_type": "code",
      "execution_count": null,
      "metadata": {
        "id": "hEUfDEFgGiOD"
      },
      "outputs": [],
      "source": [
        "# TODO: speed-up the process with multiprocessing\n",
        "choose_span_func = prepare_data_utils.choose_food_span\n",
        "entities_map = ENTITIES_MAP\n",
        "entity_hierarchy = ALL_ENTITIES_HIERARCHY\n",
        "\n",
        "train_indices = list(range(240)) + list(range(300, 400)) + list(range(500, 600))\n",
        "val_indices = list(range(240, 300))\n",
        "missing_indices = [417, 443]\n",
        "test_indices = [idx for idx in range(400, 500) if idx not in missing_indices]\n",
        "\n",
        "train_recipe_paths = [f\"annotations/{idx}.txt\" for idx in train_indices]\n",
        "train_ann_paths = [f\"annotations/{idx}.ann\" for idx in train_indices]\n",
        "val_recipe_paths = [f\"annotations/{idx}.txt\" for idx in val_indices]\n",
        "val_ann_paths = [f\"annotations/{idx}.ann\" for idx in val_indices]\n",
        "test_recipe_paths = [f\"annotations/{idx}.txt\" for idx in test_indices]\n",
        "test_ann_paths = [f\"annotations/{idx}.ann\" for idx in test_indices]\n",
        "\n",
        "train_recipes, train_entities = prepare_data_utils.collect_recipes_with_annotations(\n",
        "    annotations_paths=train_ann_paths, recipes_paths=train_recipe_paths,\n",
        "    scheme_func=prepare_data_utils.bio_scheme,\n",
        "    map_entity_func=prepare_data_utils.map_entity,\n",
        "    entities_map=entities_map,\n",
        "    choose_span_func=choose_span_func,\n",
        "    entity_hierarchy=entity_hierarchy\n",
        ")\n",
        "\n",
        "val_recipes, val_entities = prepare_data_utils.collect_recipes_with_annotations(\n",
        "    annotations_paths=val_ann_paths, recipes_paths=val_recipe_paths,\n",
        "    scheme_func=prepare_data_utils.bio_scheme,\n",
        "    map_entity_func=prepare_data_utils.map_entity,\n",
        "    entities_map=entities_map,\n",
        "    choose_span_func=choose_span_func,\n",
        "    entity_hierarchy=entity_hierarchy\n",
        ")\n",
        "\n",
        "\n",
        "test_recipes, test_entities = prepare_data_utils.collect_recipes_with_annotations(\n",
        "    annotations_paths=test_ann_paths, recipes_paths=test_recipe_paths,\n",
        "    scheme_func=prepare_data_utils.bio_scheme,\n",
        "    map_entity_func=prepare_data_utils.map_entity,\n",
        "    entities_map=entities_map,\n",
        "    choose_span_func=choose_span_func,\n",
        "    entity_hierarchy=entity_hierarchy\n",
        ")"
      ]
    },
    {
      "cell_type": "markdown",
      "metadata": {
        "id": "k5D7nWJTHiA4"
      },
      "source": [
        "# Train"
      ]
    },
    {
      "cell_type": "code",
      "source": [
        "# cross-validation was used hence we can train on everything\n",
        "recipes = train_recipes + val_recipes + test_recipes\n",
        "entities = train_entities + val_entities + test_entities"
      ],
      "metadata": {
        "id": "3mNqI5xVrWNk"
      },
      "execution_count": null,
      "outputs": []
    },
    {
      "cell_type": "code",
      "execution_count": null,
      "metadata": {
        "id": "9Y4HcddNVgo2"
      },
      "outputs": [],
      "source": [
        "label2id = {\"O\": 0}\n",
        "idx = 1\n",
        "\n",
        "for entity in set(list(entities_map.values())):\n",
        "    label2id[f\"B-{entity}\"] = idx\n",
        "    idx += 1\n",
        "    label2id[f\"I-{entity}\"] = idx\n",
        "    idx += 1\n",
        "\n",
        "label2id = {k: v for k, v in sorted(label2id.items(), key=lambda item: item[1])}"
      ]
    },
    {
      "cell_type": "code",
      "execution_count": null,
      "metadata": {
        "id": "57HpYDVkHhkp"
      },
      "outputs": [],
      "source": [
        "# TODO: config should be a json file\n",
        "\n",
        "CONFIG = {\n",
        "    \"_name_or_path\": \"bert-base-cased\",\n",
        "    \"model_pretrained_path\": \"\",\n",
        "    \"save_dir\": \"../res/bert-base-cased\",  # or any choice\n",
        "    \"num_of_tokens\": 128,\n",
        "    \"only_first_token\": True,\n",
        "\n",
        "    # for more details see https://huggingface.co/docs/transformers/v4.15.0/en/main_classes/trainer#transformers.TrainingArguments\n",
        "    \"training_args\": {\n",
        "        \"output_dir\": '../checkpoints',\n",
        "        \"evaluation_strategy\": \"epoch\",\n",
        "        \"save_strategy\": \"epoch\",\n",
        "        \"save_total_limit\": 2,\n",
        "        \"learning_rate\": 2e-5,\n",
        "        \"per_device_train_batch_size\": 16,\n",
        "        \"per_device_eval_batch_size\": 32,\n",
        "        \"num_train_epochs\": 10,\n",
        "        \"weight_decay\": 0.01,\n",
        "        \"load_best_model_at_end\": True,\n",
        "        \"seed\": 62\n",
        "    },\n",
        "\n",
        "    \"label2id\" : label2id\n",
        "}\n",
        "\n",
        "model = NERTaisti(config=CONFIG)"
      ]
    },
    {
      "cell_type": "code",
      "execution_count": null,
      "metadata": {
        "id": "aITjt617Hq6z"
      },
      "outputs": [],
      "source": [
        "model.train(train_recipes, train_entities, val_recipes, val_entities)"
      ]
    },
    {
      "cell_type": "markdown",
      "metadata": {
        "id": "C0uwhwWzH2Gx"
      },
      "source": [
        "# Evaluate"
      ]
    },
    {
      "cell_type": "code",
      "execution_count": null,
      "metadata": {
        "id": "F7RIKkqNHzoT"
      },
      "outputs": [],
      "source": [
        "model = NERTaisti(config=\"../res/ner_model/config.json\")"
      ]
    },
    {
      "cell_type": "code",
      "execution_count": null,
      "metadata": {
        "id": "Wy4b-1YMIKln"
      },
      "outputs": [],
      "source": [
        "results = model.evaluate(val_recipes, val_entities)\n",
        "results"
      ]
    },
    {
      "cell_type": "markdown",
      "metadata": {
        "id": "EagZCGgoMETU"
      },
      "source": [
        "# Prediction"
      ]
    },
    {
      "cell_type": "code",
      "execution_count": null,
      "metadata": {
        "id": "Rvu56T9TMDW1"
      },
      "outputs": [],
      "source": [
        "model = NERTaisti(config=\"../res/ner_model/config.json\")"
      ]
    },
    {
      "cell_type": "code",
      "execution_count": null,
      "metadata": {
        "id": "s6Q7_2nOMKQ1"
      },
      "outputs": [],
      "source": [
        "pred_entities = model.predict(val_recipes)"
      ]
    },
    {
      "cell_type": "markdown",
      "metadata": {
        "id": "a3JfaDLzeWYg"
      },
      "source": [
        "In order to analyse predictions you can analyse the following DataFrame"
      ]
    },
    {
      "cell_type": "code",
      "execution_count": null,
      "metadata": {
        "id": "r48AM1FyeFSo"
      },
      "outputs": [],
      "source": [
        "def flatten_list(deep_list):\n",
        "\n",
        "  flat_list = []\n",
        "  for el in deep_list:\n",
        "      flat_list.extend(el)\n",
        "\n",
        "  return flat_list"
      ]
    },
    {
      "cell_type": "code",
      "execution_count": null,
      "metadata": {
        "id": "H88s3CuBe2zy"
      },
      "outputs": [],
      "source": [
        "results = pd.DataFrame({\n",
        "    \"recipe_idx\": flatten_list(\n",
        "        [[re.findall(r\"\\d+\", ann_path)[-1]] * len(val_recipes[i]) for i, ann_path in enumerate(val_ann_paths)]\n",
        "        ),\n",
        "    \"word\": flatten_list(val_recipes),\n",
        "    \"true_entity\": flatten_list(val_entities),\n",
        "    \"pred_entity\": flatten_list(pred_entities)\n",
        "})"
      ]
    },
    {
      "cell_type": "code",
      "execution_count": null,
      "metadata": {
        "id": "2W7TbUeG9Bwz"
      },
      "outputs": [],
      "source": [
        "results.to_csv(\"manual_review_val_set.csv\", index=False)"
      ]
    },
    {
      "cell_type": "markdown",
      "metadata": {
        "id": "MoZGqQ80f26h"
      },
      "source": [
        "If you want to get predictions for files that has not been annotated so far"
      ]
    },
    {
      "cell_type": "code",
      "execution_count": null,
      "metadata": {
        "id": "6efYjAmJfxz9"
      },
      "outputs": [],
      "source": [
        "recipe_paths = [f\"annotations/{idx}.txt\" for idx in range(240, 300)]\n",
        "\n",
        "recipes = prepare_data_utils.collect_recipes_without_annotations(\n",
        "    recipes_paths=recipe_paths\n",
        ")"
      ]
    },
    {
      "cell_type": "code",
      "execution_count": null,
      "metadata": {
        "id": "h2DUds9wg6FQ"
      },
      "outputs": [],
      "source": [
        "pred_entities = model.predict(recipes)"
      ]
    }
  ],
  "metadata": {
    "accelerator": "GPU",
    "colab": {
      "collapsed_sections": [],
      "name": "model_ner_runner.ipynb",
      "provenance": []
    },
    "kernelspec": {
      "display_name": "Python 3",
      "name": "python3"
    },
    "language_info": {
      "name": "python"
    },
    "widgets": {
      "application/vnd.jupyter.widget-state+json": {
        "aa17c4450d46493a9924ad4fcda4696f": {
          "model_module": "@jupyter-widgets/controls",
          "model_name": "HBoxModel",
          "model_module_version": "1.5.0",
          "state": {
            "_view_name": "HBoxView",
            "_dom_classes": [],
            "_model_name": "HBoxModel",
            "_view_module": "@jupyter-widgets/controls",
            "_model_module_version": "1.5.0",
            "_view_count": null,
            "_view_module_version": "1.5.0",
            "box_style": "",
            "layout": "IPY_MODEL_890598fecf2f4d8299cd134983871ac1",
            "_model_module": "@jupyter-widgets/controls",
            "children": [
              "IPY_MODEL_e5c50ed01d10403fa611da72bb37d01f",
              "IPY_MODEL_d6981dbd3fb04633b77e2c6935b734be",
              "IPY_MODEL_171b14418536487e8155ca41f06ed76b"
            ]
          }
        },
        "890598fecf2f4d8299cd134983871ac1": {
          "model_module": "@jupyter-widgets/base",
          "model_name": "LayoutModel",
          "model_module_version": "1.2.0",
          "state": {
            "_view_name": "LayoutView",
            "grid_template_rows": null,
            "right": null,
            "justify_content": null,
            "_view_module": "@jupyter-widgets/base",
            "overflow": null,
            "_model_module_version": "1.2.0",
            "_view_count": null,
            "flex_flow": null,
            "width": null,
            "min_width": null,
            "border": null,
            "align_items": null,
            "bottom": null,
            "_model_module": "@jupyter-widgets/base",
            "top": null,
            "grid_column": null,
            "overflow_y": null,
            "overflow_x": null,
            "grid_auto_flow": null,
            "grid_area": null,
            "grid_template_columns": null,
            "flex": null,
            "_model_name": "LayoutModel",
            "justify_items": null,
            "grid_row": null,
            "max_height": null,
            "align_content": null,
            "visibility": null,
            "align_self": null,
            "height": null,
            "min_height": null,
            "padding": null,
            "grid_auto_rows": null,
            "grid_gap": null,
            "max_width": null,
            "order": null,
            "_view_module_version": "1.2.0",
            "grid_template_areas": null,
            "object_position": null,
            "object_fit": null,
            "grid_auto_columns": null,
            "margin": null,
            "display": null,
            "left": null
          }
        },
        "e5c50ed01d10403fa611da72bb37d01f": {
          "model_module": "@jupyter-widgets/controls",
          "model_name": "HTMLModel",
          "model_module_version": "1.5.0",
          "state": {
            "_view_name": "HTMLView",
            "style": "IPY_MODEL_36167aa3eec64cbb8caeba7b2df5974e",
            "_dom_classes": [],
            "description": "",
            "_model_name": "HTMLModel",
            "placeholder": "​",
            "_view_module": "@jupyter-widgets/controls",
            "_model_module_version": "1.5.0",
            "value": "Downloading: ",
            "_view_count": null,
            "_view_module_version": "1.5.0",
            "description_tooltip": null,
            "_model_module": "@jupyter-widgets/controls",
            "layout": "IPY_MODEL_aaa9bd0ab56e4c1ebd16ed4e1a45ebfc"
          }
        },
        "d6981dbd3fb04633b77e2c6935b734be": {
          "model_module": "@jupyter-widgets/controls",
          "model_name": "FloatProgressModel",
          "model_module_version": "1.5.0",
          "state": {
            "_view_name": "ProgressView",
            "style": "IPY_MODEL_e09196ebdf834ddf8dd0e43748042c46",
            "_dom_classes": [],
            "description": "",
            "_model_name": "FloatProgressModel",
            "bar_style": "success",
            "max": 2472,
            "_view_module": "@jupyter-widgets/controls",
            "_model_module_version": "1.5.0",
            "value": 2472,
            "_view_count": null,
            "_view_module_version": "1.5.0",
            "orientation": "horizontal",
            "min": 0,
            "description_tooltip": null,
            "_model_module": "@jupyter-widgets/controls",
            "layout": "IPY_MODEL_3bb4627b2be04d70bd87f9830a0aea14"
          }
        },
        "171b14418536487e8155ca41f06ed76b": {
          "model_module": "@jupyter-widgets/controls",
          "model_name": "HTMLModel",
          "model_module_version": "1.5.0",
          "state": {
            "_view_name": "HTMLView",
            "style": "IPY_MODEL_33124233fb6e42e885c64be68112fa33",
            "_dom_classes": [],
            "description": "",
            "_model_name": "HTMLModel",
            "placeholder": "​",
            "_view_module": "@jupyter-widgets/controls",
            "_model_module_version": "1.5.0",
            "value": " 6.33k/? [00:00&lt;00:00, 144kB/s]",
            "_view_count": null,
            "_view_module_version": "1.5.0",
            "description_tooltip": null,
            "_model_module": "@jupyter-widgets/controls",
            "layout": "IPY_MODEL_4b7114d9995d4e698bac83f4025463ae"
          }
        },
        "36167aa3eec64cbb8caeba7b2df5974e": {
          "model_module": "@jupyter-widgets/controls",
          "model_name": "DescriptionStyleModel",
          "model_module_version": "1.5.0",
          "state": {
            "_view_name": "StyleView",
            "_model_name": "DescriptionStyleModel",
            "description_width": "",
            "_view_module": "@jupyter-widgets/base",
            "_model_module_version": "1.5.0",
            "_view_count": null,
            "_view_module_version": "1.2.0",
            "_model_module": "@jupyter-widgets/controls"
          }
        },
        "aaa9bd0ab56e4c1ebd16ed4e1a45ebfc": {
          "model_module": "@jupyter-widgets/base",
          "model_name": "LayoutModel",
          "model_module_version": "1.2.0",
          "state": {
            "_view_name": "LayoutView",
            "grid_template_rows": null,
            "right": null,
            "justify_content": null,
            "_view_module": "@jupyter-widgets/base",
            "overflow": null,
            "_model_module_version": "1.2.0",
            "_view_count": null,
            "flex_flow": null,
            "width": null,
            "min_width": null,
            "border": null,
            "align_items": null,
            "bottom": null,
            "_model_module": "@jupyter-widgets/base",
            "top": null,
            "grid_column": null,
            "overflow_y": null,
            "overflow_x": null,
            "grid_auto_flow": null,
            "grid_area": null,
            "grid_template_columns": null,
            "flex": null,
            "_model_name": "LayoutModel",
            "justify_items": null,
            "grid_row": null,
            "max_height": null,
            "align_content": null,
            "visibility": null,
            "align_self": null,
            "height": null,
            "min_height": null,
            "padding": null,
            "grid_auto_rows": null,
            "grid_gap": null,
            "max_width": null,
            "order": null,
            "_view_module_version": "1.2.0",
            "grid_template_areas": null,
            "object_position": null,
            "object_fit": null,
            "grid_auto_columns": null,
            "margin": null,
            "display": null,
            "left": null
          }
        },
        "e09196ebdf834ddf8dd0e43748042c46": {
          "model_module": "@jupyter-widgets/controls",
          "model_name": "ProgressStyleModel",
          "model_module_version": "1.5.0",
          "state": {
            "_view_name": "StyleView",
            "_model_name": "ProgressStyleModel",
            "description_width": "",
            "_view_module": "@jupyter-widgets/base",
            "_model_module_version": "1.5.0",
            "_view_count": null,
            "_view_module_version": "1.2.0",
            "bar_color": null,
            "_model_module": "@jupyter-widgets/controls"
          }
        },
        "3bb4627b2be04d70bd87f9830a0aea14": {
          "model_module": "@jupyter-widgets/base",
          "model_name": "LayoutModel",
          "model_module_version": "1.2.0",
          "state": {
            "_view_name": "LayoutView",
            "grid_template_rows": null,
            "right": null,
            "justify_content": null,
            "_view_module": "@jupyter-widgets/base",
            "overflow": null,
            "_model_module_version": "1.2.0",
            "_view_count": null,
            "flex_flow": null,
            "width": null,
            "min_width": null,
            "border": null,
            "align_items": null,
            "bottom": null,
            "_model_module": "@jupyter-widgets/base",
            "top": null,
            "grid_column": null,
            "overflow_y": null,
            "overflow_x": null,
            "grid_auto_flow": null,
            "grid_area": null,
            "grid_template_columns": null,
            "flex": null,
            "_model_name": "LayoutModel",
            "justify_items": null,
            "grid_row": null,
            "max_height": null,
            "align_content": null,
            "visibility": null,
            "align_self": null,
            "height": null,
            "min_height": null,
            "padding": null,
            "grid_auto_rows": null,
            "grid_gap": null,
            "max_width": null,
            "order": null,
            "_view_module_version": "1.2.0",
            "grid_template_areas": null,
            "object_position": null,
            "object_fit": null,
            "grid_auto_columns": null,
            "margin": null,
            "display": null,
            "left": null
          }
        },
        "33124233fb6e42e885c64be68112fa33": {
          "model_module": "@jupyter-widgets/controls",
          "model_name": "DescriptionStyleModel",
          "model_module_version": "1.5.0",
          "state": {
            "_view_name": "StyleView",
            "_model_name": "DescriptionStyleModel",
            "description_width": "",
            "_view_module": "@jupyter-widgets/base",
            "_model_module_version": "1.5.0",
            "_view_count": null,
            "_view_module_version": "1.2.0",
            "_model_module": "@jupyter-widgets/controls"
          }
        },
        "4b7114d9995d4e698bac83f4025463ae": {
          "model_module": "@jupyter-widgets/base",
          "model_name": "LayoutModel",
          "model_module_version": "1.2.0",
          "state": {
            "_view_name": "LayoutView",
            "grid_template_rows": null,
            "right": null,
            "justify_content": null,
            "_view_module": "@jupyter-widgets/base",
            "overflow": null,
            "_model_module_version": "1.2.0",
            "_view_count": null,
            "flex_flow": null,
            "width": null,
            "min_width": null,
            "border": null,
            "align_items": null,
            "bottom": null,
            "_model_module": "@jupyter-widgets/base",
            "top": null,
            "grid_column": null,
            "overflow_y": null,
            "overflow_x": null,
            "grid_auto_flow": null,
            "grid_area": null,
            "grid_template_columns": null,
            "flex": null,
            "_model_name": "LayoutModel",
            "justify_items": null,
            "grid_row": null,
            "max_height": null,
            "align_content": null,
            "visibility": null,
            "align_self": null,
            "height": null,
            "min_height": null,
            "padding": null,
            "grid_auto_rows": null,
            "grid_gap": null,
            "max_width": null,
            "order": null,
            "_view_module_version": "1.2.0",
            "grid_template_areas": null,
            "object_position": null,
            "object_fit": null,
            "grid_auto_columns": null,
            "margin": null,
            "display": null,
            "left": null
          }
        }
      }
    }
  },
  "nbformat": 4,
  "nbformat_minor": 0
}