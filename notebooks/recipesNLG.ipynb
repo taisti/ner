{
  "nbformat": 4,
  "nbformat_minor": 0,
  "metadata": {
    "colab": {
      "name": "recipesNLG.ipynb",
      "provenance": [],
      "collapsed_sections": []
    },
    "kernelspec": {
      "name": "python3",
      "display_name": "Python 3"
    },
    "language_info": {
      "name": "python"
    }
  },
  "cells": [
    {
      "cell_type": "markdown",
      "source": [
        "# Libraries"
      ],
      "metadata": {
        "id": "Co_391zltVqn"
      }
    },
    {
      "cell_type": "code",
      "source": [
        "import pandas as pd\n",
        "\n",
        "import prepare_data_utils\n",
        "from model import NERTaisti\n",
        "from utils import visualize_prediction"
      ],
      "metadata": {
        "id": "LcVWZm97tTsd"
      },
      "execution_count": null,
      "outputs": []
    },
    {
      "cell_type": "markdown",
      "source": [
        "# Recipe2M"
      ],
      "metadata": {
        "id": "aKujkherszo2"
      }
    },
    {
      "cell_type": "code",
      "source": [
        "model = NERTaisti(config=\"../res/ner_model/config.json\")"
      ],
      "metadata": {
        "id": "gck9CX_St6E6"
      },
      "execution_count": null,
      "outputs": []
    },
    {
      "cell_type": "code",
      "source": [
        "num_of_examples = 10\n",
        "df = pd.read_csv(\"../data/recipe2m/full_dataset.csv\", nrows=num_of_examples)"
      ],
      "metadata": {
        "id": "VgCXIT9ayPfa"
      },
      "execution_count": null,
      "outputs": []
    },
    {
      "cell_type": "code",
      "source": [
        "df.NER.to_list()"
      ],
      "metadata": {
        "id": "PJ8kqLRo0Hdh"
      },
      "execution_count": null,
      "outputs": []
    },
    {
      "cell_type": "code",
      "source": [
        "ingredients = df.ingredients.str.replace(r\"\\\", \\\"\", \"\\n\").str.replace(r\"(\\[|\\]|\\\")\", \" \").str.strip()\n",
        "ingredients = ingredients.to_list()\n",
        "directions = df.directions.str.replace(r\"(\\\", \\\"|\\[|\\]|\\\")\", \" \").str.strip()\n",
        "directions = directions.to_list()"
      ],
      "metadata": {
        "id": "sZf1-PeNtJ6v"
      },
      "execution_count": null,
      "outputs": []
    },
    {
      "cell_type": "code",
      "source": [
        "ingredients_tokenized = prepare_data_utils.collect_recipes_without_annotations(\n",
        "    ingredients)\n",
        "directions_tokenized = prepare_data_utils.collect_recipes_without_annotations(\n",
        "    directions)"
      ],
      "metadata": {
        "id": "CRXA9Ny8w-eD"
      },
      "execution_count": null,
      "outputs": []
    },
    {
      "cell_type": "code",
      "source": [
        "ingredients_entities = model.predict(ingredients_tokenized)\n",
        "directions_entities = model.predict(directions_tokenized)"
      ],
      "metadata": {
        "id": "Wv_QPqifwAKd"
      },
      "execution_count": null,
      "outputs": []
    },
    {
      "cell_type": "code",
      "source": [
        "# add \\n for better visual effects\n",
        "visualize_prediction([ingred + \"\\n\" for ingred in ingredients],  \n",
        "                     ingredients_entities,\n",
        "                     in_jupyter=True)"
      ],
      "metadata": {
        "id": "F2mB6YiIuA5q"
      },
      "execution_count": null,
      "outputs": []
    },
    {
      "cell_type": "code",
      "source": [
        "# add \\n for better visual effects\n",
        "visualize_prediction([direct + \"\\n\\n\" for direct in directions],\n",
        "                      directions_entities, in_jupyter=True)"
      ],
      "metadata": {
        "id": "8ujwHiuzAsGf"
      },
      "execution_count": null,
      "outputs": []
    },
    {
      "cell_type": "code",
      "source": [
        ""
      ],
      "metadata": {
        "id": "zi8GCs7fySWp"
      },
      "execution_count": null,
      "outputs": []
    }
  ]
}