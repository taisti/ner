{
  "cells": [
    {
      "cell_type": "markdown",
      "metadata": {
        "id": "6lkaRwH1wB8c"
      },
      "source": [
        "# Google Colab"
      ]
    },
    {
      "cell_type": "code",
      "execution_count": null,
      "metadata": {
        "id": "rPIZjNAywFVJ"
      },
      "outputs": [],
      "source": [
        "# %%capture\n",
        "# # to install required libraries in Google Colabture\n",
        "# ! pip install transformers\n",
        "# ! pip install datasets\n",
        "# ! pip install seqeval\n",
        "# ! pip install mendelai-brat-parser\n",
        "# ! pip install spacy==3.2.0\n",
        "# ! pip install nervaluate\n",
        "\n",
        "# ! python -m spacy download en_core_web_sm"
      ]
    },
    {
      "cell_type": "code",
      "execution_count": null,
      "metadata": {
        "id": "nzeSkI5OyxEa"
      },
      "outputs": [],
      "source": [
        "from google.colab import drive\n",
        "drive.mount('/content/drive')"
      ]
    },
    {
      "cell_type": "markdown",
      "metadata": {
        "id": "kTviy0wIwN-4"
      },
      "source": [
        "# Libraries"
      ]
    },
    {
      "cell_type": "code",
      "execution_count": null,
      "metadata": {
        "id": "E4CthXXj0Crb"
      },
      "outputs": [],
      "source": [
        "import pandas as pd\n",
        "import re\n",
        "\n",
        "import prepare_data_utils\n",
        "from model import NERTaisti\n",
        "from mappings import ENTITIES_MAP"
      ]
    },
    {
      "cell_type": "code",
      "source": [
        "# TODO: speed-up the process with multiprocessing\n",
        "\n",
        "train_recipe_paths = [f\"annotations/{idx}.txt\" for idx in range(240)]\n",
        "train_ann_paths = [f\"annotations/{idx}.ann\" for idx in range(240)]\n",
        "val_recipe_paths = [f\"annotations/{idx}.txt\" for idx in range(240, 300)]\n",
        "val_ann_paths = [f\"annotations/{idx}.ann\" for idx in range(240, 300)]\n",
        "\n",
        "train_recipes, train_entities = prepare_data_utils.collect_recipes_with_annotations(\n",
        "    annotations_paths=train_ann_paths, recipes_paths=train_recipe_paths,\n",
        "    scheme_func=prepare_data_utils.bio_scheme,\n",
        "    map_entity_func=prepare_data_utils.map_entity,\n",
        "    entities_map=ENTITIES_MAP,\n",
        "    choose_span_func=prepare_data_utils.choose_food_span\n",
        ")\n",
        "\n",
        "val_recipes, val_entities = prepare_data_utils.collect_recipes_with_annotations(\n",
        "    annotations_paths=val_ann_paths, recipes_paths=val_recipe_paths,\n",
        "    scheme_func=prepare_data_utils.bio_scheme,\n",
        "    map_entity_func=prepare_data_utils.map_entity,\n",
        "    entities_map=ENTITIES_MAP,\n",
        "    choose_span_func=prepare_data_utils.choose_food_span\n",
        ")"
      ],
      "metadata": {
        "id": "hEUfDEFgGiOD"
      },
      "execution_count": null,
      "outputs": []
    },
    {
      "cell_type": "markdown",
      "source": [
        "# Train"
      ],
      "metadata": {
        "id": "k5D7nWJTHiA4"
      }
    },
    {
      "cell_type": "code",
      "source": [
        "# TODO: config should be a json file\n",
        "\n",
        "CONFIG = {\n",
        "    \"bert_type\": \"bert-base-cased\",\n",
        "    \"model_pretrained_path\": \"\",\n",
        "    \"max_length\": 128,\n",
        "    \"only_first_token\": True,\n",
        "\n",
        "    # for more details see https://huggingface.co/docs/transformers/v4.15.0/en/main_classes/trainer#transformers.TrainingArguments\n",
        "    \"training_args\": {\n",
        "        \"output_dir\": '/checkpoints',\n",
        "        \"evaluation_strategy\": \"epoch\",\n",
        "        \"save_strategy\": \"epoch\",\n",
        "        \"learning_rate\": 2e-5,\n",
        "        \"per_device_train_batch_size\": 32,\n",
        "        \"per_device_eval_batch_size\": 32,\n",
        "        \"num_train_epochs\": 10,\n",
        "        \"weight_decay\": 0.01,\n",
        "        \"load_best_model_at_end\": True,\n",
        "        \"seed\": 62\n",
        "    }\n",
        "}\n",
        "\n",
        "model = NERTaisti(config=CONFIG)"
      ],
      "metadata": {
        "id": "57HpYDVkHhkp"
      },
      "execution_count": null,
      "outputs": []
    },
    {
      "cell_type": "code",
      "source": [
        "model.train(train_recipes, train_entities, val_recipes, val_entities)"
      ],
      "metadata": {
        "id": "aITjt617Hq6z"
      },
      "execution_count": null,
      "outputs": []
    },
    {
      "cell_type": "markdown",
      "source": [
        "# Evaluate"
      ],
      "metadata": {
        "id": "C0uwhwWzH2Gx"
      }
    },
    {
      "cell_type": "code",
      "source": [
        "CONFIG = {\n",
        "    \"bert_type\": \"bert-base-cased\",\n",
        "    \"model_pretrained_path\": \"../res/ner_model/\",  # load pretrained model\n",
        "    \"max_length\": 128,\n",
        "    \"only_first_token\": True,\n",
        "\n",
        "    # for more details see https://huggingface.co/docs/transformers/v4.15.0/en/main_classes/trainer#transformers.TrainingArguments\n",
        "    \"training_args\": {\n",
        "        \"output_dir\": './checkpoints',\n",
        "        \"evaluation_strategy\": \"epoch\",\n",
        "        \"save_strategy\": \"epoch\",\n",
        "        \"learning_rate\": 2e-5,\n",
        "        \"per_device_train_batch_size\": 32,\n",
        "        \"per_device_eval_batch_size\": 32,\n",
        "        \"num_train_epochs\": 10,\n",
        "        \"weight_decay\": 0.01,\n",
        "        \"load_best_model_at_end\": True,\n",
        "        \"seed\": 62\n",
        "    }\n",
        "}\n",
        "\n",
        "model = NERTaisti(config=CONFIG)"
      ],
      "metadata": {
        "id": "F7RIKkqNHzoT"
      },
      "execution_count": null,
      "outputs": []
    },
    {
      "cell_type": "code",
      "source": [
        "results = model.evaluate(val_recipes, val_entities)"
      ],
      "metadata": {
        "id": "Wy4b-1YMIKln"
      },
      "execution_count": null,
      "outputs": []
    },
    {
      "cell_type": "code",
      "source": [
        "results"
      ],
      "metadata": {
        "id": "qjH3Iu0oO8EH"
      },
      "execution_count": null,
      "outputs": []
    },
    {
      "cell_type": "markdown",
      "source": [
        "# Prediction"
      ],
      "metadata": {
        "id": "EagZCGgoMETU"
      }
    },
    {
      "cell_type": "code",
      "source": [
        "CONFIG = {\n",
        "    \"bert_type\": \"bert-base-cased\",\n",
        "    \"model_pretrained_path\": \"../res/ner_model\",  # load pretrained model\n",
        "    \"max_length\": 128,\n",
        "    \"only_first_token\": True,\n",
        "\n",
        "    # for more details see https://huggingface.co/docs/transformers/v4.15.0/en/main_classes/trainer#transformers.TrainingArguments\n",
        "    \"training_args\": {\n",
        "        \"output_dir\": './checkpoints',\n",
        "        \"evaluation_strategy\": \"epoch\",\n",
        "        \"save_strategy\": \"epoch\",\n",
        "        \"learning_rate\": 2e-5,\n",
        "        \"per_device_train_batch_size\": 32,\n",
        "        \"per_device_eval_batch_size\": 32,\n",
        "        \"num_train_epochs\": 10,\n",
        "        \"weight_decay\": 0.01,\n",
        "        \"load_best_model_at_end\": True,\n",
        "        \"seed\": 62\n",
        "    }\n",
        "}\n",
        "\n",
        "model = NERTaisti(config=CONFIG)"
      ],
      "metadata": {
        "id": "Rvu56T9TMDW1"
      },
      "execution_count": null,
      "outputs": []
    },
    {
      "cell_type": "code",
      "source": [
        "pred_entities = model.predict(val_recipes)"
      ],
      "metadata": {
        "id": "s6Q7_2nOMKQ1"
      },
      "execution_count": null,
      "outputs": []
    },
    {
      "cell_type": "markdown",
      "source": [
        "In order to analyse predictions you can analyse the following DataFrame"
      ],
      "metadata": {
        "id": "a3JfaDLzeWYg"
      }
    },
    {
      "cell_type": "code",
      "source": [
        "def flatten_list(deep_list):\n",
        "\n",
        "  flat_list = []\n",
        "  for el in deep_list:\n",
        "      flat_list.extend(el)\n",
        "\n",
        "  return flat_list"
      ],
      "metadata": {
        "id": "r48AM1FyeFSo"
      },
      "execution_count": null,
      "outputs": []
    },
    {
      "cell_type": "code",
      "source": [
        "results = pd.DataFrame({\n",
        "    \"recipe_idx\": flatten_list(\n",
        "        [[re.findall(r\"\\d+\", ann_path)[-1]] * len(val_recipes[i]) for i, ann_path in enumerate(val_ann_paths)]\n",
        "        ),\n",
        "    \"word\": flatten_list(val_recipes),\n",
        "    \"true_entity\": flatten_list(val_entities),\n",
        "    \"pred_entity\": flatten_list(pred_entities)\n",
        "})"
      ],
      "metadata": {
        "id": "H88s3CuBe2zy"
      },
      "execution_count": null,
      "outputs": []
    },
    {
      "cell_type": "code",
      "source": [
        "results.to_csv(\"manual_review_val_set.csv\", index=False)"
      ],
      "metadata": {
        "id": "2W7TbUeG9Bwz"
      },
      "execution_count": null,
      "outputs": []
    },
    {
      "cell_type": "markdown",
      "source": [
        "If you want to get predictions for files that has not been annotated so far"
      ],
      "metadata": {
        "id": "MoZGqQ80f26h"
      }
    },
    {
      "cell_type": "code",
      "source": [
        "recipe_paths = [f\"annotations/{idx}.txt\" for idx in range(240, 300)]\n",
        "\n",
        "recipes = prepare_data_utils.collect_recipes_without_annotations(\n",
        "    recipes_paths=recipe_paths\n",
        ")"
      ],
      "metadata": {
        "id": "6efYjAmJfxz9"
      },
      "execution_count": null,
      "outputs": []
    },
    {
      "cell_type": "code",
      "source": [
        "pred_entities = model.predict(recipes)"
      ],
      "metadata": {
        "id": "h2DUds9wg6FQ"
      },
      "execution_count": null,
      "outputs": []
    }
  ],
  "metadata": {
    "colab": {
      "collapsed_sections": [],
      "name": "model_ner_runner.ipynb",
      "provenance": []
    },
    "kernelspec": {
      "display_name": "Python 3",
      "name": "python3"
    },
    "language_info": {
      "name": "python"
    },
    "accelerator": "GPU"
  },
  "nbformat": 4,
  "nbformat_minor": 0
}